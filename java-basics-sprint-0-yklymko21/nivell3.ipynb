{
 "cells": [
  {
   "cell_type": "markdown",
   "id": "47a95175-c703-484c-8202-f7cc8c96b687",
   "metadata": {},
   "source": [
    "# Nivell 3"
   ]
  },
  {
   "cell_type": "markdown",
   "id": "e771f183-b572-4728-96f6-76aea2fdc672",
   "metadata": {},
   "source": [
    "## Fase 1"
   ]
  },
  {
   "cell_type": "markdown",
   "id": "f1e6054e-3e10-4277-85df-a4ac3296803e",
   "metadata": {},
   "source": [
    "Modifica el constructor de la classe ```Coet``` de manera que ara només se li passi l'identificador del coet, però no pas cap propulsor.\n",
    "\n",
    "Ara, els coets tindran **3 propulsors**. Modifica la classe ```Coet``` de manera que la propietat de tipus Propulsor sigui ara un array de propulsors, de mida 3. Crear un setter per a aquesta nova propietat de tipus ```Propulsor[]```."
   ]
  },
  {
   "cell_type": "code",
   "execution_count": 4,
   "id": "4ca9f983-556f-4e91-a49b-dc211b185788",
   "metadata": {
    "vscode": {
     "languageId": "java"
    }
   },
   "outputs": [],
   "source": [
    "class Propulsor{\n",
    "    private int potencia; \n",
    "    private final int[] potenciaMaxima; \n",
    "    \n",
    "    public Propulsor(int[] potenciaMaxima){\n",
    "        this.potenciaMaxima = potenciaMaxima;\n",
    "    }\n",
    "    \n",
    "    // setter\n",
    "    public void setPotencia(int potencia){\n",
    "        this.potencia = potencia;\n",
    "    }\n",
    "    \n",
    "    //getters\n",
    "    public int getPotencia(){\n",
    "        return this.potencia;\n",
    "    }\n",
    "    \n",
    "    public int[] getPotenciaMaxima(){\n",
    "        return this.potenciaMaxima;\n",
    "    }\n",
    "}\n",
    "\n",
    "class Coet {\n",
    "    private boolean arrencat = false;\n",
    "    private String id;\n",
    "    private Propulsor[] propulsor;\n",
    "\n",
    "    public Coet(String id) {\n",
    "        this.id = id;\n",
    "    }\n",
    "\n",
    "    // setter\n",
    "    public void setId(String id) {\n",
    "        this.id = id;\n",
    "    }\n",
    "\n",
    "    public void setPropulsor(Propulsor[] propulsor) {\n",
    "        this.propulsor = propulsor;\n",
    "    }\n",
    "\n",
    "    // getter\n",
    "    public String getId() {\n",
    "        return this.id;\n",
    "    }\n",
    "\n",
    "    public Propulsor[] getPropulsor() {\n",
    "        return this.propulsor;\n",
    "    }\n",
    "\n",
    "    // Metodos\n",
    "    public void arrenca(int[] potencia) {\n",
    "        propulsor.setPotencia(potencia);\n",
    "        this.arrencat = true;\n",
    "    }\n",
    "\n",
    "    public void atura(int[] potencia) {\n",
    "        propulsor.setPotencia(potencia);\n",
    "        this.arrencat = false;\n",
    "    }\n",
    "\n",
    "    // prints\n",
    "    public void printStatus() {\n",
    "        System.out.print(\"Coet amb id \" + id + \" en marxa: \" + arrencat + \", poténcia \" + propulsor.getPotencia()+ \", poténcia máxima \" + propulsor.getPotenciaMaxima() + \"\\n\");\n",
    "    }\n",
    "}"
   ]
  },
  {
   "cell_type": "markdown",
   "id": "594db2ed-aaff-4c21-8b87-581f16a8e086",
   "metadata": {},
   "source": [
    "## Fase 2"
   ]
  },
  {
   "cell_type": "markdown",
   "id": "ef73b507-aac4-40d2-8e9e-a5956b7b2bcc",
   "metadata": {},
   "source": [
    "Modifica el mètode ```arrenca``` de la classe ```Coet``` de manera que:\n",
    "\n",
    "- Tindrà 3 paràmetres de tipus ```int``` indicant les potència que ha de tenir cadascun dels 3 propulsors. Li assignarà les potències indicades a cadascun dels propulsors, a menys que hi hagi algun error:\n",
    "\n",
    "    - Si alguna de les potències que passem és negativa o és més gran que la màxima permesa de cada propulsor, no ha d'assignar cap potència a cap propulsor i ha de retornar el següent missatge d'error: \"Error: potència assignada a propulsor no vàlida.\"\n",
    "\n",
    "    - Si el coet encara no té propulsors, imprimeixi per pantalla el següent missatge d'error: \"Error: aquest coet encara no té propulsors i no pot ser arrencat.\"\n",
    "\n",
    "Modifica el mètode ```printStatus()```, de manera que ara imprimeixi la suma de les potències assignades als 3 propulsors, així com la suma de les seves potències màximes.\n",
    "\n",
    "Exemples:\n",
    "\n",
    "```java\n",
    "Coet coet = new Coet(\"32WESSDS\");\n",
    "\n",
    "Propulsor propulsor1 = new Propulsor(50);\n",
    "Propulsor propulsor2 = new Propulsor(30);\n",
    "Propulsor propulsor3 = new Propulsor(40);\n",
    "\n",
    "coet.arrenca(20, 35, 30);\n",
    "\"Error: aquest coet encara no té propulsors i no pot ser arrencat.\"\n",
    "    \n",
    "//Assignem els propulsors al coet amb el setter\n",
    "coet.arrenca(20, 35, 30);\n",
    "\"Error: potència assignada a propulsor no vàlida.\"\n",
    "    \n",
    "coet.arrenca(20, 15, 30); \n",
    "printStatus();\n",
    "\"Coet amb id 32WESSDS en marxa: true, potència 65, potència màxima 120\"\n",
    "    \n",
    "coet.atura();\n",
    "\"Coet amb id 32WESSDS en marxa: false, potència 0, potència màxima 120\"\n",
    "```\n",
    "\n"
   ]
  },
  {
   "cell_type": "markdown",
   "id": "538baa2e-463e-4c28-b346-17a6f2d4ff34",
   "metadata": {},
   "source": [
    "### Respostes"
   ]
  },
  {
   "cell_type": "code",
   "execution_count": 5,
   "id": "6cde4630-b498-4523-8015-c5bf141f9a22",
   "metadata": {
    "vscode": {
     "languageId": "java"
    }
   },
   "outputs": [],
   "source": [
    "class Propulsor {\n",
    "    private int potencia;\n",
    "    private final int[] potenciaMaxima;\n",
    "\n",
    "    public Propulsor(int[] potenciaMaxima) {\n",
    "        this.potenciaMaxima = potenciaMaxima;\n",
    "    }\n",
    "\n",
    "    public void setPotencia(int potencia) {\n",
    "        this.potencia = potencia;\n",
    "    }\n",
    "\n",
    "    public int getPotencia() {\n",
    "        return this.potencia;\n",
    "    }\n",
    "\n",
    "    public int[] getPotenciaMaxima() {\n",
    "        return this.potenciaMaxima;\n",
    "    }\n",
    "}"
   ]
  },
  {
   "cell_type": "code",
   "execution_count": null,
   "id": "9ecea430-b368-4332-9f04-2b609f98b65e",
   "metadata": {
    "vscode": {
     "languageId": "java"
    }
   },
   "outputs": [],
   "source": [
    "class Coet {\n",
    "    private boolean arrencat = false;\n",
    "    private String id;\n",
    "    private Propulsor[] propulsor;\n",
    "\n",
    "    public Coet(String id) {\n",
    "        this.id = id;\n",
    "    }\n",
    "\n",
    "    public void setId(String id) {\n",
    "        this.id = id;\n",
    "    }\n",
    "\n",
    "    public void setPropulsor(Propulsor[] propulsor) {\n",
    "        this.propulsor = propulsor;\n",
    "    }\n",
    "\n",
    "    public String getId() {\n",
    "        return this.id;\n",
    "    }\n",
    "\n",
    "    public Propulsor[] getPropulsor() {\n",
    "        return this.propulsor;\n",
    "    }\n",
    "\n",
    "    public void arrenca(int potencia1, int potencia2, int potencia3) {\n",
    "        if (propulsor == null) {\n",
    "            System.out.println(\"Error: aquest coet encara no té propulsors i no pot ser arrencat.\");\n",
    "            return;\n",
    "        }\n",
    "\n",
    "        if (potencia1 < 0 || potencia2 < 0 || potencia3 < 0 ||\n",
    "            potencia1 > propulsor[0].getPotenciaMaxima() ||\n",
    "            potencia2 > propulsor[1].getPotenciaMaxima() ||\n",
    "            potencia3 > propulsor[2].getPotenciaMaxima()) {\n",
    "            System.out.println(\"Error: potència assignada a propulsor no vàlida.\");\n",
    "            return;\n",
    "        }\n",
    "\n",
    "        propulsor[0].setPotencia(potencia1);\n",
    "        propulsor[1].setPotencia(potencia2);\n",
    "        propulsor[2].setPotencia(potencia3);\n",
    "\n",
    "        this.arrencat = true;\n",
    "    }\n",
    "\n",
    "    public void atura() {\n",
    "        for (Propulsor p : propulsor) {\n",
    "            p.setPotencia(0);\n",
    "        }\n",
    "\n",
    "        this.arrencat = false;\n",
    "    }\n",
    "\n",
    "    public void printStatus() {\n",
    "        int sumaPotencias = 0;\n",
    "        int sumaPotenciasMaximas = 0;\n",
    "\n",
    "        for (Propulsor p : propulsor) {\n",
    "            sumaPotencias += p.getPotencia();\n",
    "            sumaPotenciasMaximas += p.getPotenciaMaxima();\n",
    "        }\n",
    "\n",
    "        System.out.println(\"Coet amb id \" + id + \" en marxa: \" + arrencat + \", potència \" + sumaPotencias + \", potència màxima \" + sumaPotenciasMaximas);\n",
    "    }\n",
    "}"
   ]
  }
 ],
 "metadata": {
  "kernelspec": {
   "display_name": "Java",
   "language": "java",
   "name": "java"
  },
  "language_info": {
   "codemirror_mode": "java",
   "file_extension": ".jshell",
   "mimetype": "text/x-java-source",
   "name": "Java",
   "pygments_lexer": "java",
   "version": "19.0.1+10-21"
  }
 },
 "nbformat": 4,
 "nbformat_minor": 5
}
