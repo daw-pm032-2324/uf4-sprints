{
 "cells": [
  {
   "cell_type": "markdown",
   "id": "fdaa6fe5-a80d-4673-ab95-5859bbd0b6f2",
   "metadata": {},
   "source": [
    "# Nivell 1"
   ]
  },
  {
   "cell_type": "markdown",
   "id": "e3b4ea48-2cb1-4ff6-b2f0-c2a631d05d2b",
   "metadata": {},
   "source": [
    "## Pregunta 1"
   ]
  },
  {
   "cell_type": "markdown",
   "id": "048a569f-5546-474c-9108-fed430deba23",
   "metadata": {},
   "source": [
    "Executa el següent codi en una cel·la:\n",
    "\n",
    "```java\n",
    "short s = (short)32000;\n",
    "short s = (short)35000;\n",
    "```\n",
    "\n",
    "Quins resultats obtens? Per què?"
   ]
  },
  {
   "cell_type": "code",
   "execution_count": 7,
   "id": "d143d56f-09e0-4e9f-aac0-048accd4c1f8",
   "metadata": {},
   "outputs": [
    {
     "name": "stdout",
     "output_type": "stream",
     "text": [
      "-30536"
     ]
    }
   ],
   "source": [
    "short s = (short)32000;\n",
    "short s = (short)35000;\n",
    "\n",
    "System.out.print(s);"
   ]
  },
  {
   "cell_type": "markdown",
   "id": "e8e75e51-f5cb-46f5-8092-34f3145ed962",
   "metadata": {},
   "source": [
    "Resposta:\n",
    "\n",
    "El resultado que da es \"-30536\" porque el tipo de dato que utilizamos es un \"short\" que tiene un límite de rango (-32 768 a 32 767), entonces el primero al hacer System.out.print(), sacaria el resultado igual que esta porque esta dentro de los limites permitodos del \"short\", pero el siguiente está fuera de rango de lo permitido, entonces lo que pasando es que la el último valor permitido postivo que es el 32767 es el máximo, no va seguir 32768, 32679, 32770... sino que va empecar de nuevo desde el valor rango negativo que es el -32768, entonces sale el resultado \"-30536\" porque se le sumo al valor \"-32768\" que es el valor minimo del rango el valor de la resta que esta fuera de rango, es decir: 35000-32768 = 2232 -> y ahora se le suma al valor minimo de rango el resultado de resta: -32768 + 2232 = \"-30536\""
   ]
  },
  {
   "cell_type": "markdown",
   "id": "f3c3e485-34d2-4c5b-b299-111b37988088",
   "metadata": {},
   "source": [
    "## Pregunta 2"
   ]
  },
  {
   "cell_type": "markdown",
   "id": "403823e3-25df-4d72-8123-c6c28c971277",
   "metadata": {},
   "source": [
    "Executa el següent codi en una cel·la:\n",
    "\n",
    "```java\n",
    "var v = 5.0;\n",
    "var v0 = 5;\n",
    "```\n",
    "\n",
    "De quin tipus de dada són les variables v i v0?"
   ]
  },
  {
   "cell_type": "code",
   "execution_count": 14,
   "id": "07c33012-927c-4e69-8100-33d44ccb4422",
   "metadata": {},
   "outputs": [
    {
     "name": "stdout",
     "output_type": "stream",
     "text": [
      "5.0\n",
      "5"
     ]
    }
   ],
   "source": [
    "var v = 5.0;\n",
    "var v0 = 5;\n",
    "\n",
    "System.out.println(v);\n",
    "System.out.print(v0);"
   ]
  },
  {
   "cell_type": "markdown",
   "id": "3dc0645e-1dad-4a19-aa2c-bb963db5cb94",
   "metadata": {},
   "source": [
    "Resposta:\n",
    "\n",
    "La variable \"v\": es un \"double\"       \n",
    "La variable \"v0\": es un \"int\""
   ]
  },
  {
   "cell_type": "markdown",
   "id": "40d712d0-433b-450b-9150-de544e89f85f",
   "metadata": {},
   "source": [
    "Ara, executa:\n",
    "\n",
    "```java\n",
    "var v1 = v + v0;\n",
    "```\n",
    "De quin tipus de dada és la variable v1? Per què (què està passant en fer-se la suma)?"
   ]
  },
  {
   "cell_type": "code",
   "execution_count": 16,
   "id": "fb14fce1-6196-4e36-bc1c-f3afbdee22c5",
   "metadata": {},
   "outputs": [
    {
     "name": "stdout",
     "output_type": "stream",
     "text": [
      "10.0"
     ]
    }
   ],
   "source": [
    "var v1 = v + v0;\n",
    "System.out.print(v1);"
   ]
  },
  {
   "cell_type": "markdown",
   "id": "25d1ba13-d747-439d-b061-121e1a058578",
   "metadata": {},
   "source": [
    "Resposta:\n",
    "\n",
    "La variable \"v1\": es de tipo \"double\"\n",
    "\n",
    "Porqué hemos sumado un \"double\" y un \"int\" promocionado a double, como resultado se detectó como un valor decimal, que lo identifica como double."
   ]
  },
  {
   "cell_type": "markdown",
   "id": "fc4c8446-8e5b-4df4-b9e4-82f7dfe73987",
   "metadata": {},
   "source": [
    "## Exercici 1"
   ]
  },
  {
   "cell_type": "markdown",
   "id": "42a2f675-1ab3-4e4f-adc2-6d0a3460ceaa",
   "metadata": {},
   "source": [
    "Escriu una funció, la signatura de la qual serà\n",
    "\n",
    "```java\n",
    "void isPrime(int n);\n",
    "```\n",
    "que imprimeixi ```true``` si n és un número primer positiu, o ```false``` si n és un número no primer o bé és 0, o bé és un enter negatiu.\n",
    "\n",
    "Per exemple:\n",
    "\n",
    "```java\n",
    "isPrime(7); //Imprimirà true\n",
    "isPrime(20); //Imprimirà false\n",
    "isPrime(0); //Imprimirà false\n",
    "isPrime(-7); //Imprimirà false\n",
    "```"
   ]
  },
  {
   "cell_type": "code",
   "execution_count": 142,
   "id": "a38d2188-d3e2-4a76-ba9c-4db50f643eba",
   "metadata": {},
   "outputs": [
    {
     "name": "stdout",
     "output_type": "stream",
     "text": [
      "true\n"
     ]
    },
    {
     "name": "stdout",
     "output_type": "stream",
     "text": [
      "false\n",
      "false\n",
      "false\n",
      "\n",
      "true\n",
      "false\n",
      "false\n",
      "true\n",
      "false\n"
     ]
    }
   ],
   "source": [
    "void isPrime(int n) {\n",
    "    boolean esPrimo = true;\n",
    "    if (n <= 1) {\n",
    "        esPrimo = false; // si son negativos, directamente se consideran que no son numeros primos\n",
    "    } else {\n",
    "        for (int i = 2; i < n; i++) {\n",
    "            if (n % i == 0) {\n",
    "                esPrimo = false;\n",
    "                break;\n",
    "            }\n",
    "        }\n",
    "    }\n",
    "    System.out.println(esPrimo);\n",
    "}\n",
    "\n",
    "// Pruebas aquí\n",
    "isPrime(7); \n",
    "isPrime(20); \n",
    "isPrime(0);\n",
    "isPrime(-7);\n",
    "System.out.println(); \n",
    "// Mas pruebas\n",
    "isPrime(3);\n",
    "isPrime(4);\n",
    "isPrime(33);\n",
    "isPrime(11);\n",
    "isPrime(24);"
   ]
  },
  {
   "cell_type": "markdown",
   "id": "9db0fe46-0274-40cf-8774-2b57efb4e4a7",
   "metadata": {},
   "source": [
    "## Exercici 2"
   ]
  },
  {
   "cell_type": "markdown",
   "id": "e701dac0-7f06-4ceb-9f48-009dbfd1be73",
   "metadata": {},
   "source": [
    "Escriu una funció, la signatura de la qual serà\n",
    "\n",
    "```java\n",
    "int getSum(int[] n);\n",
    "```\n",
    "\n",
    "que retorni un enter resultat de la suma de tots els enters que composen l'array."
   ]
  },
  {
   "cell_type": "code",
   "execution_count": 154,
   "id": "40fcb645-da29-41dd-ab53-8e12f7898939",
   "metadata": {},
   "outputs": [
    {
     "name": "stdout",
     "output_type": "stream",
     "text": [
      "208\n",
      "192\n",
      "179\n",
      "213\n",
      "254\n"
     ]
    }
   ],
   "source": [
    "//Escriu i prova el teu codi aquí\n",
    "\n",
    "int getSum(int[] n) {\n",
    "    int sumaTotal = 0;\n",
    "    for(int i = 0; i <= n.length-1; i++) {\n",
    "        sumaTotal+=n[i];\n",
    "    }\n",
    "    return sumaTotal;\n",
    "}\n",
    "\n",
    "// JOC DE PROVES\n",
    "int[] array1 = {2, 33, 1, 14, 56, 102};\n",
    "int[] array2 = {5, 28, 7, 92, 10, 50};\n",
    "int[] array3 = {17, 3, 81, 9, 27, 42};\n",
    "int[] array4 = {63, 37, 6, 12, 77, 18};\n",
    "int[] array5 = {19, 4, 88, 25, 48, 70};\n",
    "\n",
    "System.out.println(getSum(array1));\n",
    "System.out.println(getSum(array2));\n",
    "System.out.println(getSum(array3));\n",
    "System.out.println(getSum(array4));\n",
    "System.out.println(getSum(array5));\n"
   ]
  },
  {
   "cell_type": "markdown",
   "id": "01566c7e-828a-4ded-9da1-240f8560c7fb",
   "metadata": {},
   "source": [
    "## Exercici 3"
   ]
  },
  {
   "cell_type": "markdown",
   "id": "1d60dc44-c75a-46e6-9d11-560501d65cbb",
   "metadata": {},
   "source": [
    "Tenim la següent classe:\n",
    "\n",
    "```java\n",
    "class Propulsor{\n",
    "    private int potencia; //potencia actual que té en cada moment\n",
    "    \n",
    "    //potència màxima que pot tenir el propulsor\n",
    "    //És final perquè un cop creat l'objecte, no es pot modificar\n",
    "    private final int potenciaMaxima; \n",
    "    \n",
    "    public Propulsor(int potenciaMaxima){\n",
    "        this.potenciaMaxima = potenciaMaxima;\n",
    "    }\n",
    "    \n",
    "    //setter\n",
    "    //(potenciaMaxima no té setter perquè és final)\n",
    "    public void setPotencia(int potencia){\n",
    "        this.potencia = potencia;\n",
    "    }\n",
    "    \n",
    "    //getters\n",
    "    public int getPotencia(){\n",
    "        return this.potencia;\n",
    "    }\n",
    "    \n",
    "    public int getPotenciaMaxima(){\n",
    "        return this.potenciaMaxima;\n",
    "    }\n",
    "}\n",
    "```"
   ]
  },
  {
   "cell_type": "markdown",
   "id": "ea5d2fd0-3218-42db-81c8-fda158e1a34c",
   "metadata": {},
   "source": [
    "Crea una classe ```Coet``` que tingui dos atributs: un identificador anomenat ```id``` de tipus String, i un propulsor anomenar ```propulsor``` de tipus Propulsor.\n",
    "\n",
    "- La classe coet ha de tenir un constructor que inicialitzi l'objecte passant-li un id i un propulsor.\n",
    "- L'id serà immutable (no es pot canviar un cop creat el coet), però el propulsor sí es podrà canviar (amb un setter). Amndós seràn privats, però s'han de poder llegir amb els getters.\n",
    "\n",
    "**Has d'afegir, al coet, dos mètodes públics** (```arrenca``` i ```atura```), sense paràmetres.\n",
    "\n",
    "> Proves: Crearàs un coet amb id “32WESSDS” que tingui un propulsor amb potència màxima 50.\n",
    "\n",
    "- ```arrenca()``` no retorna res i ha d'imprimir per pantalla \"Coet amb id 32WESSDS en marxa amb un propulsor de potència màxima 50\".\n",
    "- ```atura()``` no retorna res i ha d'imprimir per pantalla \"Coet amb id 32WESSDS està aturat\"."
   ]
  },
  {
   "cell_type": "code",
   "execution_count": 21,
   "id": "7cdcbf7c-1872-409c-ac12-b62c66c0dc1e",
   "metadata": {},
   "outputs": [
    {
     "name": "stdout",
     "output_type": "stream",
     "text": [
      "Coet amb id 32WESSDS en marxa amb un propulsor de potència màxima 50\n",
      "Coet amb id 32WESSDS està aturat\n"
     ]
    }
   ],
   "source": [
    "class Propulsor{\n",
    "    private int potencia; \n",
    "    private final int potenciaMaxima; \n",
    "    \n",
    "    public Propulsor(int potenciaMaxima){\n",
    "        this.potenciaMaxima = potenciaMaxima;\n",
    "    }\n",
    "    \n",
    "    // setter\n",
    "    public void setPotencia(int potencia){\n",
    "        this.potencia = potencia;\n",
    "    }\n",
    "    \n",
    "    //getters\n",
    "    public int getPotencia(){\n",
    "        return this.potencia;\n",
    "    }\n",
    "    \n",
    "    public int getPotenciaMaxima(){\n",
    "        return this.potenciaMaxima;\n",
    "    }\n",
    "}\n",
    "\n",
    "class Coet {\n",
    "    private String id;\n",
    "    private Propulsor propulsor;\n",
    "\n",
    "    public Coet(String id, Propulsor propulsor) {\n",
    "        this.id = id;\n",
    "        this.propulsor = propulsor;\n",
    "    }\n",
    "\n",
    "    // setter\n",
    "    public void setId(String id) {\n",
    "        this.id = id;\n",
    "    }\n",
    "\n",
    "    public void setPropulsor(Propulsor propulsor) {\n",
    "        this.propulsor = propulsor;\n",
    "    }\n",
    "\n",
    "    // getter\n",
    "    public String getId() {\n",
    "        return this.id;\n",
    "    }\n",
    "\n",
    "    public Propulsor getPropulsor() {\n",
    "        return this.propulsor;\n",
    "    }\n",
    "\n",
    "    public void arrenca() {\n",
    "        System.out.println(\"Coet amb id \" + id + \" en marxa amb un propulsor de potència màxima \" + propulsor.getPotenciaMaxima());\n",
    "    }\n",
    "\n",
    "    public void atura() {\n",
    "        System.out.println(\"Coet amb id \" + id + \" està aturat\");\n",
    "    }\n",
    "}\n",
    "String id = \"32WESSDS\";\n",
    "\n",
    "Coet coete = new Coet(id, new Propulsor(50));\n",
    "coete.arrenca();\n",
    "coete.atura();"
   ]
  }
 ],
 "metadata": {
  "kernelspec": {
   "display_name": "Java",
   "language": "java",
   "name": "java"
  },
  "language_info": {
   "codemirror_mode": "java",
   "file_extension": ".jshell",
   "mimetype": "text/x-java-source",
   "name": "java",
   "pygments_lexer": "java",
   "version": "19.0.1+10-21"
  }
 },
 "nbformat": 4,
 "nbformat_minor": 5
}
