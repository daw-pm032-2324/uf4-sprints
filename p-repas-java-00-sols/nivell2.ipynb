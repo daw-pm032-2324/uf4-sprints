{
 "cells": [
  {
   "cell_type": "markdown",
   "id": "54b801d8-b4b0-4b20-a67c-5b701d1e6f56",
   "metadata": {},
   "source": [
    "# Nivell 2"
   ]
  },
  {
   "cell_type": "markdown",
   "id": "b32588ba-9adf-4513-ba25-4001901dd84d",
   "metadata": {},
   "source": [
    "### Fase 1\n",
    "\n",
    "Has de modificar la classe ```Propulsor``` de manera que ara tingui una propietat privada de tipus ```boolean```, anomenada ```arrencat``` que ens indicarà si el propulsor està en marxa (true) o no (false). Incialment val ```false``` perquè incialment el propulsor està aturat.\n",
    "\n",
    "Si és necessari, afegeix el corresponent getter i setter a l'atribut ```arrencat```."
   ]
  },
  {
   "cell_type": "code",
   "execution_count": 9,
   "id": "b638c5a9-8ffa-4457-83af-5d1de257a3e6",
   "metadata": {},
   "outputs": [],
   "source": [
    "// Escriu la teva classe Propulsor aquí:\n",
    "\n",
    "class Propulsor{\n",
    "    private int potencia; //potencia actual que té en cada moment\n",
    "    \n",
    "    private boolean arrencat;\n",
    "    \n",
    "    //potència màxima que pot tenir el propulsor\n",
    "    //És final perquè un cop creat l'objecte, no es pot modificar\n",
    "    private final int potenciaMaxima; \n",
    "    \n",
    "    //Constructor\n",
    "    public Propulsor(int potenciaMaxima){\n",
    "        this.potenciaMaxima = potenciaMaxima;\n",
    "    }\n",
    "    \n",
    "    //setters\n",
    "    public void setArrencat(boolean arrencat){\n",
    "        this.arrencat = arrencat;\n",
    "    }\n",
    "    \n",
    "    //(potenciaMaxima no té setter perquè és final)\n",
    "    public void setPotencia(int potencia){\n",
    "        this.potencia = potencia;\n",
    "    }\n",
    "    \n",
    "    //getters\n",
    "    public boolean getArrencat(){\n",
    "        return this.arrencat;\n",
    "    }\n",
    "    \n",
    "    public int getPotencia(){\n",
    "        return this.potencia;\n",
    "    }\n",
    "    \n",
    "    public int getPotenciaMaxima(){\n",
    "        return this.potenciaMaxima;\n",
    "    }\n",
    "}"
   ]
  },
  {
   "cell_type": "markdown",
   "id": "0c2f6f7e-3953-485b-828b-a78d5dcd7d9c",
   "metadata": {},
   "source": [
    "### Fase 2\n",
    "\n",
    "Modifica la classe ```Coet``` de manera que, en cridar el mètode ```arrenca``` se li passi com a paràmetre la potència que tindrà el propulsor. Per tant, el mètode ```arrenca``` haurà d'assignar-li aquesta potència al propulsor del coet i també posar la propietat ```arrencat``` del propulsor a ```true```.\n",
    "\n",
    "El mètode ```atura()```, per la seva banda, haurà de posar a 0 la potència del propulsor del coet i posar a ```false``` el valor de l'atribut ```aturat``` del propulsor del coet.\n",
    "\n",
    "**Els mètodes ```arrenca``` i ```atura``` ara no han d'imprimir res per pantalla**:\n",
    "\n",
    "> Crea un nou mètode, anomenat ```printStatus()```, que s'encarregarà d'imprimir per pantalla l'estat en què es troba el coet, així:\n",
    "\n",
    "```java\n",
    "//Inicialment\n",
    "coet.printStatus();\n",
    "\"Coet amb id 32WESSDS en marxa: false, potència 0, potència màxima 50\"\n",
    "    \n",
    "//Cridem arrenca\n",
    "coet.arrenca(20);\n",
    "coet.printStatus();\n",
    "\"Coet amb id 32WESSDS en marxa: true, potència 20, potència màxima 50\"\n",
    "    \n",
    "//Cridem atura\n",
    "coet.atura();\n",
    "coet.printStatus();\n",
    "\"Coet amb id 32WESSDS en marxa: false, potència 0, potència màxima 50\"\n",
    "```\n"
   ]
  },
  {
   "cell_type": "code",
   "execution_count": 15,
   "id": "3c22c4a4-c028-4526-9c6b-2f89ba6084a9",
   "metadata": {},
   "outputs": [],
   "source": [
    "//Escriu la teva classe Coet aquí\n",
    "class Coet {\n",
    "    //El teu codi aquí\n",
    "    //Atributs:\n",
    "    private final String id; //és immutable\n",
    "    private Propulsor propulsor;\n",
    "    \n",
    "    //Constructor:\n",
    "    public Coet(String id, Propulsor propulsor){\n",
    "        this.id = id;\n",
    "        this.propulsor = propulsor;\n",
    "    }\n",
    "    \n",
    "    public void arrenca(int potencia) {        \n",
    "        this.propulsor.setPotencia(potencia);\n",
    "        this.propulsor.setArrencat(true);\n",
    "    }\n",
    "    \n",
    "    public void atura() {\n",
    "        this.propulsor.setPotencia(0);\n",
    "        this.propulsor.setArrencat(false);\n",
    "    }\n",
    "    \n",
    "    public void printStatus() {\n",
    "        System.out.println(\"Coet amb id \" + id + \n",
    "                           \" en marxa: \" + this.propulsor.getArrencat() + \n",
    "                           \", potència \" + this.propulsor.getPotencia() + \n",
    "                           \", potència màxima \" + this.propulsor.getPotenciaMaxima());\n",
    "    }\n",
    "    \n",
    "    //setter\n",
    "    public void setPropulsor(Propulsor propulsor){\n",
    "        this.propulsor = propulsor;\n",
    "    }\n",
    "    \n",
    "    //getters\n",
    "    public String getId(){\n",
    "        return this.id;\n",
    "    }\n",
    "    public Propulsor getPropulsor(){\n",
    "        return this.propulsor;\n",
    "    }\n",
    "}"
   ]
  },
  {
   "cell_type": "code",
   "execution_count": 16,
   "id": "b2aac863-928e-457e-bd55-03f92cbc7181",
   "metadata": {},
   "outputs": [
    {
     "name": "stdout",
     "output_type": "stream",
     "text": [
      "Coet amb id 32WESSDS en marxa: true, potència 20, potència màxima 50\n",
      "Coet amb id 32WESSDS en marxa: false, potència 0, potència màxima 50\n"
     ]
    }
   ],
   "source": [
    "//Fes les teves proves a continuació:\n",
    "Propulsor propulsor = new Propulsor(50); //Li assignem la potència màxima de 50\n",
    "Coet coet = new Coet(\"32WESSDS\", propulsor);\n",
    "coet.arrenca(20); //Arrequem el coet amb una potència de 20\n",
    "coet.printStatus();\n",
    "coet.atura(); //Aturem el coet\n",
    "coet.printStatus();"
   ]
  },
  {
   "cell_type": "code",
   "execution_count": null,
   "id": "e9e0228c-1e4f-4080-9293-52a5998d1aea",
   "metadata": {},
   "outputs": [],
   "source": []
  }
 ],
 "metadata": {
  "kernelspec": {
   "display_name": "Java 11",
   "language": "java",
   "name": "java"
  },
  "language_info": {
   "codemirror_mode": "java",
   "file_extension": ".jshell",
   "mimetype": "text/x-java-source",
   "name": "Java",
   "pygments_lexer": "java",
   "version": "11.0.11+9-Ubuntu-0ubuntu2.20.04"
  }
 },
 "nbformat": 4,
 "nbformat_minor": 5
}
