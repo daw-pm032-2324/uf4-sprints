{
 "cells": [
  {
   "cell_type": "markdown",
   "id": "fdaa6fe5-a80d-4673-ab95-5859bbd0b6f2",
   "metadata": {},
   "source": [
    "# Nivell 1"
   ]
  },
  {
   "cell_type": "markdown",
   "id": "e3b4ea48-2cb1-4ff6-b2f0-c2a631d05d2b",
   "metadata": {},
   "source": [
    "## Pregunta 1"
   ]
  },
  {
   "cell_type": "markdown",
   "id": "048a569f-5546-474c-9108-fed430deba23",
   "metadata": {},
   "source": [
    "Executa el següent codi en una cel·la:\n",
    "\n",
    "```java\n",
    "short s = (short)32000;\n",
    "short s = (short)35000;\n",
    "```\n",
    "\n",
    "Quins resultats obtens? Per què?"
   ]
  },
  {
   "cell_type": "code",
   "execution_count": 2,
   "id": "d143d56f-09e0-4e9f-aac0-048accd4c1f8",
   "metadata": {},
   "outputs": [],
   "source": [
    "//Escriu i executa el codi aquí\n",
    "short s = (short)32000;\n",
    "short s = (short)35000;"
   ]
  },
  {
   "cell_type": "markdown",
   "id": "e8e75e51-f5cb-46f5-8092-34f3145ed962",
   "metadata": {},
   "source": [
    "Resposta:\n",
    "\n",
    "No es \"veu\" res perquè no em fet un print per pantalla de cap valor, però el què està passant és:\n",
    "\n",
    "- es declara una variable de tipus short, ```s```, dues vegades\n",
    "- primer se li assigna el valor literal 32000, que és un int; però com que un int (que ocupa 4 bytes en memòria) no cap dins d'un short (que ocupa només 2 bytes en memòria) s'ha de fer un **cast** (és a dir, retallar els dos bytes de l'esquerre de l'int perquè hi càpiga). En aquest cas, el valor 32000 es manté inalterable perquè es pot representar amb 2 bytes sense problemes.\n",
    "- en la segons assignació passa el mateix, però com que el valor 35000 **no es pot representar amb 2 bytes**, el valor que se li assigna a ```s``` és diferent: dóna un número negatiu perquè en retallar els dos bytes de l'esquerre, el darrer bit que queda és 1.\n",
    "\n",
    "Comprovem-ho:"
   ]
  },
  {
   "cell_type": "code",
   "execution_count": 3,
   "id": "4f6dd366-d7bb-43b1-8ac6-fa6f86c09e76",
   "metadata": {},
   "outputs": [
    {
     "name": "stdout",
     "output_type": "stream",
     "text": [
      "32000\n",
      "-30536\n"
     ]
    }
   ],
   "source": [
    "//Escriu i executa el codi aquí\n",
    "short s = (short)32000;\n",
    "println(s);\n",
    "short s = (short)35000;\n",
    "println(s);"
   ]
  },
  {
   "cell_type": "markdown",
   "id": "f3c3e485-34d2-4c5b-b299-111b37988088",
   "metadata": {},
   "source": [
    "## Pregunta 2"
   ]
  },
  {
   "cell_type": "markdown",
   "id": "403823e3-25df-4d72-8123-c6c28c971277",
   "metadata": {},
   "source": [
    "Executa el següent codi en una cel·la:\n",
    "\n",
    "```java\n",
    "var v = 5.0;\n",
    "var v0 = 5;\n",
    "```\n",
    "\n",
    "De quin tipus de dada són les variables v i v0?"
   ]
  },
  {
   "cell_type": "code",
   "execution_count": 4,
   "id": "07c33012-927c-4e69-8100-33d44ccb4422",
   "metadata": {},
   "outputs": [],
   "source": [
    "//Escriu i executa el codi aquí\n",
    "var v = 5.0;\n",
    "var v0 = 5;"
   ]
  },
  {
   "cell_type": "markdown",
   "id": "3dc0645e-1dad-4a19-aa2c-bb963db5cb94",
   "metadata": {},
   "source": [
    "Resposta:\n",
    "\n",
    "```var``` és una paraula clau de Java disponible a partir de la versió 10 de Java, i que s'usa per a fer **assignació dinàmica** de variables:\n",
    "\n",
    "> L'assignació dinàmica consisteix en **no** especificar el tipus de dada en el moment de la declaració de la variable, però serà llavors obligatori assignar-li un valor en el mateix moment de la declaració: així, el tipus de dada serà inferit del literal assignat.\n",
    "\n",
    "Així:\n",
    "\n",
    "- La variable ```v``` serà de tipus **double**, perquè el literal 5.0 és double.\n",
    "- La variable ```v0 ``` serà de tipus **int**, perquè el literal 5 és un integer."
   ]
  },
  {
   "cell_type": "markdown",
   "id": "40d712d0-433b-450b-9150-de544e89f85f",
   "metadata": {},
   "source": [
    "Ara, executa:\n",
    "\n",
    "```java\n",
    "var v1 = v + v0;\n",
    "```\n",
    "De quin tipus de dada és la variable v1? Per què (què està passant en fer-se la suma)?"
   ]
  },
  {
   "cell_type": "code",
   "execution_count": 5,
   "id": "fb14fce1-6196-4e36-bc1c-f3afbdee22c5",
   "metadata": {},
   "outputs": [],
   "source": [
    "//Escriu i executa el codi aquí\n",
    "var v1 = v + v0;"
   ]
  },
  {
   "cell_type": "markdown",
   "id": "25d1ba13-d747-439d-b061-121e1a058578",
   "metadata": {},
   "source": [
    "Resposta:\n",
    "\n",
    "S'està sumant una variable de tipus **double** amb una de tipus **int**. En aquest cas, la variable **int** és promoguda a double i es fa la suma de dos double, que dóna un double. Així, a ```v1``` se li assignarà un **double** passant a ser de tipus double.\n",
    "\n",
    "Ho podem comprovar amb el següent codi, que dóna error perquè un double no hi cap en un float (caldria fer un cast):"
   ]
  },
  {
   "cell_type": "code",
   "execution_count": 8,
   "id": "c5dcaaa9-85aa-46ee-b87c-b088124596fc",
   "metadata": {},
   "outputs": [
    {
     "ename": "CompilationException",
     "evalue": "",
     "output_type": "error",
     "traceback": [
      "\u001b[1m\u001b[30m|   \u001b[1m\u001b[30mfloat f = \u001b[0m\u001b[1m\u001b[30m\u001b[41mv1\u001b[0m\u001b[1m\u001b[30m;\u001b[0m",
      "\u001b[1m\u001b[31mincompatible types: possible lossy conversion from double to float\u001b[0m",
      ""
     ]
    }
   ],
   "source": [
    "float f = v1;"
   ]
  },
  {
   "cell_type": "markdown",
   "id": "fc4c8446-8e5b-4df4-b9e4-82f7dfe73987",
   "metadata": {},
   "source": [
    "## Exercici 1"
   ]
  },
  {
   "cell_type": "markdown",
   "id": "42a2f675-1ab3-4e4f-adc2-6d0a3460ceaa",
   "metadata": {},
   "source": [
    "Escriu una funció, la signatura de la qual serà\n",
    "\n",
    "```java\n",
    "void isPrime(int n);\n",
    "```\n",
    "que imprimeixi ```true``` si n és un número primer positiu, o ```false``` si n és un número no primer o bé és 0, o bé és un enter negatiu.\n",
    "\n",
    "Per exemple:\n",
    "\n",
    "```java\n",
    "isPrime(7); //Imprimirà true\n",
    "isPrime(20); //Imprimirà false\n",
    "isPrime(0); //Imprimirà false\n",
    "isPrime(-7); //Imprimirà false\n",
    "```"
   ]
  },
  {
   "cell_type": "code",
   "execution_count": 11,
   "id": "a38d2188-d3e2-4a76-ba9c-4db50f643eba",
   "metadata": {},
   "outputs": [
    {
     "name": "stdout",
     "output_type": "stream",
     "text": [
      "true\n",
      "false\n",
      "false\n",
      "false\n"
     ]
    }
   ],
   "source": [
    "//Escriu i prova el teu codi aquí\n",
    "\n",
    "void isPrime(int n){\n",
    "    //El teu codi aquí\n",
    "    \n",
    "    boolean prime = true; //per defecte suposem que sí és primer\n",
    "    \n",
    "    if(n <= 0) //si és un enter negatiu o 0, prime serà false\n",
    "        prime = false;\n",
    "    else { //comprovem que no és primer\n",
    "        for(int i = 2; i < n; i++) // comprovem per tots els valors excepte 1 i n\n",
    "            if(n % i == 0) // si és divisible, no és primer\n",
    "                prime = false;\n",
    "    }\n",
    "    System.out.println(prime);\n",
    "}\n",
    "\n",
    "//Proves aquí\n",
    "isPrime(7); \n",
    "isPrime(20); \n",
    "isPrime(0); \n",
    "isPrime(-7); "
   ]
  },
  {
   "cell_type": "markdown",
   "id": "9db0fe46-0274-40cf-8774-2b57efb4e4a7",
   "metadata": {},
   "source": [
    "## Exercici 2"
   ]
  },
  {
   "cell_type": "markdown",
   "id": "e701dac0-7f06-4ceb-9f48-009dbfd1be73",
   "metadata": {},
   "source": [
    "Escriu una funció, la signatura de la qual serà\n",
    "\n",
    "```java\n",
    "int getSum(int[] n);\n",
    "```\n",
    "\n",
    "que retorni un enter resultat de la suma de tots els enters que composen l'array."
   ]
  },
  {
   "cell_type": "code",
   "execution_count": 14,
   "id": "40fcb645-da29-41dd-ab53-8e12f7898939",
   "metadata": {},
   "outputs": [
    {
     "name": "stdout",
     "output_type": "stream",
     "text": [
      "45\n",
      "0\n"
     ]
    }
   ],
   "source": [
    "//Escriu i prova el teu codi aquí\n",
    "\n",
    "int getSum(int[] n) {\n",
    "    int suma = 0; //inicialment la suma val 0\n",
    "    //sumem tots el valors de dins de l'array\n",
    "    for(int i = 0; i < n.length; i++)\n",
    "        suma += n[i];\n",
    "    return suma;\n",
    "}\n",
    "\n",
    "//Crea les teves proves aquí\n",
    "int[] n1 = {1,2,3,4,5,6,7,8,9};\n",
    "println(getSum(n1));\n",
    "\n",
    "int[] n2 = {4,-4,33,-33,29,-29,123,-123,0};\n",
    "println(getSum(n2));"
   ]
  },
  {
   "cell_type": "markdown",
   "id": "01566c7e-828a-4ded-9da1-240f8560c7fb",
   "metadata": {},
   "source": [
    "## Exercici 3"
   ]
  },
  {
   "cell_type": "markdown",
   "id": "1d60dc44-c75a-46e6-9d11-560501d65cbb",
   "metadata": {},
   "source": [
    "Tenim la següent classe:\n",
    "\n",
    "```java\n",
    "class Propulsor{\n",
    "    private int potencia; //potencia actual que té en cada moment\n",
    "    \n",
    "    //potència màxima que pot tenir el propulsor\n",
    "    //És final perquè un cop creat l'objecte, no es pot modificar\n",
    "    private final int potenciaMaxima; \n",
    "    \n",
    "    //Constructor\n",
    "    public Propulsor(int potenciaMaxima){\n",
    "        this.potenciaMaxima = potenciaMaxima;\n",
    "    }\n",
    "    \n",
    "    //setter\n",
    "    //(potenciaMaxima no té setter perquè és final)\n",
    "    public void setPotencia(int potencia){\n",
    "        this.potencia = potencia;\n",
    "    }\n",
    "    \n",
    "    //getters\n",
    "    public int getPotencia(){\n",
    "        return this.potencia;\n",
    "    }\n",
    "    \n",
    "    public int getPotenciaMaxima(){\n",
    "        return this.potenciaMaxima;\n",
    "    }\n",
    "}\n",
    "```"
   ]
  },
  {
   "cell_type": "markdown",
   "id": "ea5d2fd0-3218-42db-81c8-fda158e1a34c",
   "metadata": {},
   "source": [
    "Crea una classe ```Coet``` que tingui dos atributs: un identificador anomenat ```id``` de tipus String, i un propulsor anomenar ```propulsor``` de tipus Propulsor.\n",
    "\n",
    "- La classe coet ha de tenir un constructor que inicialitzi l'objecte passant-li un id i un propulsor.\n",
    "- L'id serà immutable (no es pot canviar un cop creat el coet), però el propulsor sí es podrà canviar (amb un setter). Amndós seràn privats, però s'han de poder llegir amb els getters.\n",
    "\n",
    "**Has d'afegir, al coet, dos mètodes públics** (```arrenca``` i ```atura```), sense paràmetres.\n",
    "\n",
    "> Proves: Crearàs un coet amb id “32WESSDS” que tingui un propulsor amb potència màxima 50.\n",
    "\n",
    "- ```arrenca()``` no retorna res i ha d'imprimir per pantalla \"Coet amb id 32WESSDS en marxa amb un propulsor de potència màxima 50\".\n",
    "- ```atura()``` no retorna res i ha d'imprimir per pantalla \"Coet amb id 32WESSDS està aturat\"."
   ]
  },
  {
   "cell_type": "code",
   "execution_count": 16,
   "id": "f841cbc8-480c-4604-9152-2ed52b4d669d",
   "metadata": {},
   "outputs": [],
   "source": [
    "//Primer copiem la classe Propulsor\n",
    "class Propulsor{\n",
    "    private int potencia; //potencia actual que té en cada moment\n",
    "    \n",
    "    //potència màxima que pot tenir el propulsor\n",
    "    //És final perquè un cop creat l'objecte, no es pot modificar\n",
    "    private final int potenciaMaxima; \n",
    "    \n",
    "    //Constructor\n",
    "    public Propulsor(int potenciaMaxima){\n",
    "        this.potenciaMaxima = potenciaMaxima;\n",
    "    }\n",
    "    \n",
    "    //setter\n",
    "    //(potenciaMaxima no té setter perquè és final)\n",
    "    public void setPotencia(int potencia){\n",
    "        this.potencia = potencia;\n",
    "    }\n",
    "    \n",
    "    //getters\n",
    "    public int getPotencia(){\n",
    "        return this.potencia;\n",
    "    }\n",
    "    \n",
    "    public int getPotenciaMaxima(){\n",
    "        return this.potenciaMaxima;\n",
    "    }\n",
    "}"
   ]
  },
  {
   "cell_type": "code",
   "execution_count": 21,
   "id": "7cdcbf7c-1872-409c-ac12-b62c66c0dc1e",
   "metadata": {},
   "outputs": [],
   "source": [
    "//Crea la teva classe Coet aquí\n",
    "\n",
    "class Coet {\n",
    "    //El teu codi aquí\n",
    "    //Atributs:\n",
    "    private final String id; //és immutable\n",
    "    private Propulsor propulsor;\n",
    "    \n",
    "    //Constructor:\n",
    "    public Coet(String id, Propulsor propulsor){\n",
    "        this.id = id;\n",
    "        this.propulsor = propulsor;\n",
    "    }\n",
    "    \n",
    "    public void arrenca() {\n",
    "        System.out.println(\"Coet amb id \" + id + \n",
    "                           \" en marxa amb propulsor de potència màxima \" +\n",
    "                           this.propulsor.getPotenciaMaxima());\n",
    "    }\n",
    "    \n",
    "    public void atura() {\n",
    "        System.out.println(\"Coet amb id \" + id + \" està aturat\");\n",
    "    }\n",
    "    \n",
    "    \n",
    "    //setter\n",
    "    public void setPropulsor(Propulsor propulsor){\n",
    "        this.propulsor = propulsor;\n",
    "    }\n",
    "    \n",
    "    //getters\n",
    "    public String getId(){\n",
    "        return this.id;\n",
    "    }\n",
    "    public Propulsor getPropulsor(){\n",
    "        return this.propulsor;\n",
    "    }\n",
    "}"
   ]
  },
  {
   "cell_type": "code",
   "execution_count": 20,
   "id": "fdede379-bda4-40ae-8e82-aab88460e26b",
   "metadata": {},
   "outputs": [
    {
     "name": "stdout",
     "output_type": "stream",
     "text": [
      "Coet amb id 32WESSDS en marxa amb propulsor de potència màxima 50\n",
      "Coet amb id 32WESSDS està aturat\n"
     ]
    }
   ],
   "source": [
    "//Fes les teves proves a continuació:\n",
    "Propulsor propulsor = new Propulsor(50);\n",
    "Coet coet = new Coet(\"32WESSDS\", propulsor);\n",
    "\n",
    "coet.arrenca();\n",
    "coet.atura();"
   ]
  },
  {
   "cell_type": "code",
   "execution_count": null,
   "id": "e5aca974-f501-4f1b-9c7f-43eee81af968",
   "metadata": {},
   "outputs": [],
   "source": []
  }
 ],
 "metadata": {
  "kernelspec": {
   "display_name": "Java 11",
   "language": "java",
   "name": "java"
  },
  "language_info": {
   "codemirror_mode": "java",
   "file_extension": ".jshell",
   "mimetype": "text/x-java-source",
   "name": "Java",
   "pygments_lexer": "java",
   "version": "11.0.11+9-Ubuntu-0ubuntu2.20.04"
  }
 },
 "nbformat": 4,
 "nbformat_minor": 5
}
